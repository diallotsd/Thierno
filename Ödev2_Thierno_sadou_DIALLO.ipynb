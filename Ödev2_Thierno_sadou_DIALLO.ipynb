{
  "nbformat": 4,
  "nbformat_minor": 0,
  "metadata": {
    "colab": {
      "provenance": [],
      "toc_visible": true,
      "authorship_tag": "ABX9TyPcJTiAS068mY+FjdWmqbeZ",
      "include_colab_link": true
    },
    "kernelspec": {
      "name": "python3",
      "display_name": "Python 3"
    },
    "language_info": {
      "name": "python"
    }
  },
  "cells": [
    {
      "cell_type": "markdown",
      "metadata": {
        "id": "view-in-github",
        "colab_type": "text"
      },
      "source": [
        "<a href=\"https://colab.research.google.com/github/diallotsd/Thierno/blob/main/%C3%96dev2_Thierno_sadou_DIALLO.ipynb\" target=\"_parent\"><img src=\"https://colab.research.google.com/assets/colab-badge.svg\" alt=\"Open In Colab\"/></a>"
      ]
    },
    {
      "cell_type": "markdown",
      "source": [
        "Soru1: 2 helisiz zar n kere attığında iki sonucun toplamı 7 olma olasılığı nedir?\n",
        "Çözüm: python kullanarak bu problemi çözen bir progam yazılmıstır. n=100\n",
        "girerek 2 denemenin sonucu aşağıda verilmiştir.\n",
        "\n",
        "deneme 1:\n",
        "atma saysını giriniz: 100\n",
        "Z1 + Z2 = 7'ye eşit :  16\n",
        "Z1 + Z2 = 7'ye eşit değil:  84\n",
        "Z1 + Z2 = 7 olma olasılığı:  0.16\n",
        "deneme 2:\n",
        "atma saysını giriniz: 100\n",
        "Z1 + Z2 = 7'ye eşit :  19\n",
        "Z1 + Z2 = 7'ye eşit değil:  81\n",
        "Z1 + Z2 = 7 olma olasılığı:  0.19"
      ],
      "metadata": {
        "id": "H24sYUxJsgxI"
      }
    },
    {
      "cell_type": "code",
      "source": [
        "from random import *\n",
        "s=0\n",
        "n=int(input(\"atma saysını giriniz: \"))\n",
        "for i in range(n):\n",
        " Z1=randint(1,6)\n",
        " Z2=randint(1,6)\n",
        " if Z1+Z2==7 :\n",
        "   s=s+1\n",
        "print(\"Z1 + Z2 = 7'ye eşit : \", s)\n",
        "print(\"Z1 + Z2 = 7'ye eşit değil: \", n-s)\n",
        "print(\"Z1 + Z2 = 7 olma olasılığı: \", s/n)"
      ],
      "metadata": {
        "id": "lmBv268sucSw"
      },
      "execution_count": null,
      "outputs": []
    },
    {
      "cell_type": "markdown",
      "source": [
        "soru2: hilesiz bir zar ile oyun oynamak. 2 ya da 4 ya da 6 çıkarsa oyuncu 100tl kazanır. Eğer 3 ya da 5 çıkarsa oyuncu 200tl kaybeder. Yoksa (1 çıkarsa) oyuncu ne kazanır ne kayber. Bunun her olasılığını zar n kere attığında nedir?\n",
        "\n",
        "Çözüm: python kullanarak bu problemi çözen bir progam yazılmıstır. n=3\n",
        "girerek 2 denemenin sonucu aşağıda verilmiştir.\n",
        "\n",
        "deneme1:\n",
        "atma saysını giriniz: 3\n",
        "100 tl kazandın.\n",
        "bunun olasılığı 0.125\n",
        "\n",
        "deneme2:\n",
        "atma saysını giriniz: 3\n",
        "200tl kaybettin.\n",
        "bunun olasılığı 0.03703703703703703 "
      ],
      "metadata": {
        "id": "zJTYk5a1BgV0"
      }
    },
    {
      "cell_type": "code",
      "source": [
        "from mmap import PROT_EXEC\n",
        "n=int(input(\"atma saysını giriniz: \"))\n",
        "z=randint(1,6)\n",
        "for x in range(n):\n",
        "  if (z==2  or z==4  or z==6):\n",
        "    print(\"100 tl kazandın.\")\n",
        "    p1=3/6\n",
        "    pt= pow(p1, n)\n",
        "    print(\"bunun olasılığı\",pt)\n",
        "    break\n",
        "  elif (z==3  or z==5 ):\n",
        "    print(\"200tl kaybettin.\")\n",
        "    p2=2/6\n",
        "    pt= pow(p2, n)\n",
        "    print(\"bunun olasılığı\",pt)\n",
        "    break\n",
        "  else:\n",
        "    print(\"ne kazandınız ne de kaybettiniz.\")\n",
        "    p3=1/6\n",
        "    pt= pow(p3, n)\n",
        "    print(\"bunun olasılığı\",pt)"
      ],
      "metadata": {
        "id": "IgGhXZFiE8dA"
      },
      "execution_count": null,
      "outputs": []
    }
  ]
}