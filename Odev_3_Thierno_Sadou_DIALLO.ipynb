{
  "nbformat": 4,
  "nbformat_minor": 0,
  "metadata": {
    "colab": {
      "provenance": [],
      "authorship_tag": "ABX9TyPVhBSe21RYjeZqitlKFXh2",
      "include_colab_link": true
    },
    "kernelspec": {
      "name": "python3",
      "display_name": "Python 3"
    },
    "language_info": {
      "name": "python"
    }
  },
  "cells": [
    {
      "cell_type": "markdown",
      "metadata": {
        "id": "view-in-github",
        "colab_type": "text"
      },
      "source": [
        "<a href=\"https://colab.research.google.com/github/diallotsd/Thierno/blob/main/Odev_3_Thierno_Sadou_DIALLO.ipynb\" target=\"_parent\"><img src=\"https://colab.research.google.com/assets/colab-badge.svg\" alt=\"Open In Colab\"/></a>"
      ]
    },
    {
      "cell_type": "markdown",
      "source": [
        "-Soru1: Olasılık dersi alan öğrencilerin 60%'ını kızlardan oluşmaktadır. kızların 1/3'nü çalışmakta. Erkeklerden ise 1/2'ni çalışmaktadır.\n",
        "Çalışanlardan birini rasgele seçilerse:\n",
        "a) Bir kız olma olasılığı nedir?\n",
        "b) Bir erkek olma olasılığı nedir?\n",
        "\n",
        "\n",
        "-Çözum: p(K)=pK=0.6 kızların olasılığı; p(E)=pE=0.4 erkeklerin olasılığı; p(ç/K)=pçK=1/3 çalışan kızların olasılığı (koşullu olasılık: kız olma bilindiğinde çalışan olma olasılığı); p(ç/E)=pçE=1/2 çalışan erkeklerin olasılığı;\n",
        "p(K/ç)=pKç (seçilen öğrencinin çalışıyor bilindiğinde kız olma olasılığı); p(E/ç)=pEç (seçilen öğrencinin çalışıyor bilindiğinde erkek olma olasılığı) ve p(ç)=pç=pçK*pK + pçE*pE çalışanların olasılığı.\n",
        " a) Seçilen öğrencinin kız olma olasılığı: pKç=(pçK*pK)/(pç)=0.4999;  \n",
        " b) Seçilen öğrencinin erkek olma olasılığı: pEç=(pçE*pE)/(pç)=0.5."
      ],
      "metadata": {
        "id": "LdvUte6dM3zw"
      }
    },
    {
      "cell_type": "code",
      "execution_count": null,
      "metadata": {
        "id": "4iUKbIOGy_Ti"
      },
      "outputs": [],
      "source": [
        "pK=0.6\n",
        "pE=0.4\n",
        "pçK=1/3\n",
        "pçE=1/2\n",
        "pç=pçK*pK + pçE*pE\n",
        "pKç=(pçK*pK)/pç\n",
        "print(\"seçilen çalışanlardan birinin kız olma olasılığı =\",pKç)\n",
        "pEç=(pçE*pE)/pç # pEç=1-pKç\n",
        "print(\"seçilen çalışanlardan birinin erkek olma olasılığı =\",pEç)"
      ]
    },
    {
      "cell_type": "markdown",
      "source": [
        "Soru2: Aynı hastalık tedavisinde 2 farklı ilaç kullanılmaktadır. Hastarlardan 30/50 A ilacı alırken kalan 20/50 B ilacı almaktadır. \n",
        "A ilacı kullananlardan 75/100 ve B ilacı kullananlardan 90/100 iyileşmelerini gözlenmektedir.\n",
        "İyileşenlerden biri rasgele seçilirse: \n",
        "a) A ilacı kullananlardan birinin olma olasılığı nedir?\n",
        "b) B ilacı kullananlardan birinin olma olasılığı nedir?\n",
        "\n",
        "Çözüm: pA=30/50 A ilacı kullananların olasılığı;  pB=20/50 B ilacı kullananların olasılığı;  piyA=0.75 (koşullu olasılık: A ilacı kullananlardan biri bilindiğinde o birinin iyileşme olasılığı);  piyB=0.90 (koşullu olasılık: B ilacı kullananlardan biri bilindiğinde o birinin iyileşme olasılığı) ve piy=(pA*piyA) + (pB*piyB) iyileşenlerin olasılığı.\n",
        "a) pAiy=(piyA*pA) / (piy) = 0.555 iyileşenlerden biri rasgele seçilirse A ilacı kullananlardan birinin olma olasılığı.\n",
        "b) pBiy=1 - pAiy = 0.444 iyileşenlerden biri rasgele seçilirse B ilacı kullananlardan birinin olma olasılığı.\n",
        "\n"
      ],
      "metadata": {
        "id": "xAfHXTPgM-Ba"
      }
    },
    {
      "cell_type": "code",
      "source": [
        "pA=30/50\n",
        "pB=20/50\n",
        "piyA=0.75\n",
        "piyB=0.90\n",
        "piy=piyA*pA + piyB*pB\n",
        "pAiy=(piyA*pA)/piy\n",
        "print(\"seçilen iyileşenlerden birinin A ilacı kullananlardan olma olasılığı =\",pAiy)\n",
        "pBiy= 1 - pAiy\n",
        "print(\"seçilen iyileşenlerden birinin B ilacı kullananlardan olma olasılığı =\",pBiy)"
      ],
      "metadata": {
        "id": "GPnnHXaTrluu"
      },
      "execution_count": null,
      "outputs": []
    }
  ]
}